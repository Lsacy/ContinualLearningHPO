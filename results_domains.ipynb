{
 "cells": [
  {
   "cell_type": "code",
   "execution_count": 3,
   "metadata": {},
   "outputs": [],
   "source": [
    "import pandas as pd\n",
    "import json\n",
    "import glob\n",
    "import os"
   ]
  },
  {
   "cell_type": "markdown",
   "metadata": {},
   "source": [
    "loading all mimic files for basic eda"
   ]
  },
  {
   "cell_type": "code",
   "execution_count": 4,
   "metadata": {},
   "outputs": [],
   "source": [
    "mimic_domain_path = '/pvc/data/continualLearning/mimic_domains/'\n",
    "def load_single_df(all_files: str) -> pd.DataFrame:\n",
    "    \"\"\" Load a single .csv file, transform the labels from text into nummeric, one-hot encoded version\"\"\"\n",
    "\n",
    "    converter = {'labels': eval}\n",
    "    df = pd.read_csv(all_files, converters = converter)\n",
    "    df.rename(columns={'TEXT': 'text', 'notes': 'text'}, inplace=True)\n",
    "\n",
    "    return df\n",
    "\n",
    "def load_multiple_dfs(path) -> dict:\n",
    "    \"\"\" Load all .csv files in a given directory, using the load_and_label_df function for each file by default, \n",
    "    return a dictionary with the dataframe, and a dictionary mapping the nummeric labels to the text labels\n",
    "    specific_sets: str, default None, could be 'mimic' or 'codiesp' to load only one set of dataset\"\"\"\n",
    "    \n",
    "    # get all files in the directory\n",
    "    files = glob.glob(os.path.join(path, \"*.csv\"))\n",
    "    file_names = [(i.split('/')[-1]) for i in files]  # get the file name without the path to use as dictionary key\n",
    "    \n",
    "    # # load all files into the dictionaries\n",
    "    frames = {}\n",
    "    for idx, i in enumerate(file_names):\n",
    "        frames[i] = load_single_df(files[idx])\n",
    "    \n",
    "    return frames\n",
    "\n",
    "mimic_domain_files = load_multiple_dfs(mimic_domain_path)"
   ]
  },
  {
   "cell_type": "code",
   "execution_count": 5,
   "metadata": {},
   "outputs": [
    {
     "name": "stdout",
     "output_type": "stream",
     "text": [
      "63 files loaded: ['mimic_iv_domain_Certain_infectious_and_parasitic_diseases.csv_fold_1_dev.csv', 'mimic_iv_domain_Certain_infectious_and_parasitic_diseases.csv_fold_1_test.csv', 'mimic_iv_domain_Certain_infectious_and_parasitic_diseases.csv_fold_1_train.csv', 'mimic_iv_domain_Congenital_malformations_deformations_and_chromosomal_abnormalities.csv_fold_1_dev.csv', 'mimic_iv_domain_Congenital_malformations_deformations_and_chromosomal_abnormalities.csv_fold_1_test.csv', 'mimic_iv_domain_Congenital_malformations_deformations_and_chromosomal_abnormalities.csv_fold_1_train.csv', 'mimic_iv_domain_Diseases_of_the_blood_and_blood-forming_organs_and_certain_disorders_involving_the_immune_mechanism.csv_fold_1_dev.csv', 'mimic_iv_domain_Diseases_of_the_blood_and_blood-forming_organs_and_certain_disorders_involving_the_immune_mechanism.csv_fold_1_test.csv', 'mimic_iv_domain_Diseases_of_the_blood_and_blood-forming_organs_and_certain_disorders_involving_the_immune_mechanism.csv_fold_1_train.csv', 'mimic_iv_domain_Diseases_of_the_circulatory_system.csv_fold_1_dev.csv', 'mimic_iv_domain_Diseases_of_the_circulatory_system.csv_fold_1_test.csv', 'mimic_iv_domain_Diseases_of_the_circulatory_system.csv_fold_1_train.csv', 'mimic_iv_domain_Diseases_of_the_digestive_system.csv_fold_1_dev.csv', 'mimic_iv_domain_Diseases_of_the_digestive_system.csv_fold_1_test.csv', 'mimic_iv_domain_Diseases_of_the_digestive_system.csv_fold_1_train.csv', 'mimic_iv_domain_Diseases_of_the_ear_and_mastoid_process.csv_fold_1_dev.csv', 'mimic_iv_domain_Diseases_of_the_ear_and_mastoid_process.csv_fold_1_test.csv', 'mimic_iv_domain_Diseases_of_the_ear_and_mastoid_process.csv_fold_1_train.csv', 'mimic_iv_domain_Diseases_of_the_eye_and_adnexa.csv_fold_1_dev.csv', 'mimic_iv_domain_Diseases_of_the_eye_and_adnexa.csv_fold_1_test.csv', 'mimic_iv_domain_Diseases_of_the_eye_and_adnexa.csv_fold_1_train.csv', 'mimic_iv_domain_Diseases_of_the_genitourinary_system.csv_fold_1_dev.csv', 'mimic_iv_domain_Diseases_of_the_genitourinary_system.csv_fold_1_test.csv', 'mimic_iv_domain_Diseases_of_the_genitourinary_system.csv_fold_1_train.csv', 'mimic_iv_domain_Diseases_of_the_musculoskeletal_system_and_connective_tissue.csv_fold_1_dev.csv', 'mimic_iv_domain_Diseases_of_the_musculoskeletal_system_and_connective_tissue.csv_fold_1_test.csv', 'mimic_iv_domain_Diseases_of_the_musculoskeletal_system_and_connective_tissue.csv_fold_1_train.csv', 'mimic_iv_domain_Diseases_of_the_nervous_system.csv_fold_1_dev.csv', 'mimic_iv_domain_Diseases_of_the_nervous_system.csv_fold_1_test.csv', 'mimic_iv_domain_Diseases_of_the_nervous_system.csv_fold_1_train.csv', 'mimic_iv_domain_Diseases_of_the_respiratory_system.csv_fold_1_dev.csv', 'mimic_iv_domain_Diseases_of_the_respiratory_system.csv_fold_1_test.csv', 'mimic_iv_domain_Diseases_of_the_respiratory_system.csv_fold_1_train.csv', 'mimic_iv_domain_Diseases_of_the_skin_and_subcutaneous_tissue.csv_fold_1_dev.csv', 'mimic_iv_domain_Diseases_of_the_skin_and_subcutaneous_tissue.csv_fold_1_test.csv', 'mimic_iv_domain_Diseases_of_the_skin_and_subcutaneous_tissue.csv_fold_1_train.csv', 'mimic_iv_domain_Diseases_of_the_skin_and_subcutaneous_tissue_fold_1_dev.csv', 'mimic_iv_domain_Diseases_of_the_skin_and_subcutaneous_tissue_fold_1_test.csv', 'mimic_iv_domain_Diseases_of_the_skin_and_subcutaneous_tissue_fold_1_train.csv', 'mimic_iv_domain_Endocrine_nutritional_and_metabolic_diseases.csv_fold_1_dev.csv', 'mimic_iv_domain_Endocrine_nutritional_and_metabolic_diseases.csv_fold_1_test.csv', 'mimic_iv_domain_Endocrine_nutritional_and_metabolic_diseases.csv_fold_1_train.csv', 'mimic_iv_domain_External_causes_of_morbidity_and_mortality.csv_fold_1_dev.csv', 'mimic_iv_domain_External_causes_of_morbidity_and_mortality.csv_fold_1_test.csv', 'mimic_iv_domain_External_causes_of_morbidity_and_mortality.csv_fold_1_train.csv', 'mimic_iv_domain_Factors_influencing_health_status_and_contact_with_health_services.csv_fold_1_dev.csv', 'mimic_iv_domain_Factors_influencing_health_status_and_contact_with_health_services.csv_fold_1_test.csv', 'mimic_iv_domain_Factors_influencing_health_status_and_contact_with_health_services.csv_fold_1_train.csv', 'mimic_iv_domain_Injury_poisoning_and_certain_other_consequences_of_external_causes.csv_fold_1_dev.csv', 'mimic_iv_domain_Injury_poisoning_and_certain_other_consequences_of_external_causes.csv_fold_1_test.csv', 'mimic_iv_domain_Injury_poisoning_and_certain_other_consequences_of_external_causes.csv_fold_1_train.csv', 'mimic_iv_domain_Mental_and_behavioural_disorders.csv_fold_1_dev.csv', 'mimic_iv_domain_Mental_and_behavioural_disorders.csv_fold_1_test.csv', 'mimic_iv_domain_Mental_and_behavioural_disorders.csv_fold_1_train.csv', 'mimic_iv_domain_Neoplasms.csv_fold_1_dev.csv', 'mimic_iv_domain_Neoplasms.csv_fold_1_test.csv', 'mimic_iv_domain_Neoplasms.csv_fold_1_train.csv', 'mimic_iv_domain_Pregnancy_childbirth_and_the_puerperium.csv_fold_1_dev.csv', 'mimic_iv_domain_Pregnancy_childbirth_and_the_puerperium.csv_fold_1_test.csv', 'mimic_iv_domain_Pregnancy_childbirth_and_the_puerperium.csv_fold_1_train.csv', 'mimic_iv_domain_Symptoms_signs_and_abnormal_clinical_and_laboratory_findings_not_elsewhere_classified.csv_fold_1_dev.csv', 'mimic_iv_domain_Symptoms_signs_and_abnormal_clinical_and_laboratory_findings_not_elsewhere_classified.csv_fold_1_test.csv', 'mimic_iv_domain_Symptoms_signs_and_abnormal_clinical_and_laboratory_findings_not_elsewhere_classified.csv_fold_1_train.csv']\n"
     ]
    }
   ],
   "source": [
    "keys = sorted(mimic_domain_files.keys())\n",
    "print(f'{len(keys)} files loaded: {keys}') "
   ]
  },
  {
   "cell_type": "code",
   "execution_count": 6,
   "metadata": {},
   "outputs": [
    {
     "name": "stdout",
     "output_type": "stream",
     "text": [
      "0 ('mimic_iv_domain_Diseases_of_the_circulatory_system.csv_fold_1_train.csv', 50976)\n",
      "1 ('mimic_iv_domain_Factors_influencing_health_status_and_contact_with_health_services.csv_fold_1_train.csv', 42992)\n",
      "2 ('mimic_iv_domain_Endocrine_nutritional_and_metabolic_diseases.csv_fold_1_train.csv', 28337)\n",
      "3 ('mimic_iv_domain_Diseases_of_the_digestive_system.csv_fold_1_train.csv', 20577)\n",
      "4 ('mimic_iv_domain_Mental_and_behavioural_disorders.csv_fold_1_train.csv', 14029)\n",
      "5 ('mimic_iv_domain_Symptoms_signs_and_abnormal_clinical_and_laboratory_findings_not_elsewhere_classified.csv_fold_1_train.csv', 12008)\n",
      "6 ('mimic_iv_domain_Diseases_of_the_musculoskeletal_system_and_connective_tissue.csv_fold_1_train.csv', 7455)\n",
      "7 ('mimic_iv_domain_Injury_poisoning_and_certain_other_consequences_of_external_causes.csv_fold_1_train.csv', 6048)\n",
      "8 ('mimic_iv_domain_Diseases_of_the_genitourinary_system.csv_fold_1_train.csv', 5501)\n",
      "9 ('mimic_iv_domain_Neoplasms.csv_fold_1_train.csv', 5446)\n",
      "10 ('mimic_iv_domain_External_causes_of_morbidity_and_mortality.csv_fold_1_train.csv', 5283)\n",
      "11 ('mimic_iv_domain_Diseases_of_the_nervous_system.csv_fold_1_train.csv', 4603)\n",
      "12 ('mimic_iv_domain_Diseases_of_the_respiratory_system.csv_fold_1_train.csv', 4280)\n",
      "13 ('mimic_iv_domain_Diseases_of_the_blood_and_blood-forming_organs_and_certain_disorders_involving_the_immune_mechanism.csv_fold_1_train.csv', 3425)\n",
      "14 ('mimic_iv_domain_Pregnancy_childbirth_and_the_puerperium.csv_fold_1_train.csv', 2756)\n",
      "15 ('mimic_iv_domain_Certain_infectious_and_parasitic_diseases.csv_fold_1_train.csv', 1929)\n",
      "16 ('mimic_iv_domain_Diseases_of_the_skin_and_subcutaneous_tissue.csv_fold_1_train.csv', 1112)\n",
      "17 ('mimic_iv_domain_Diseases_of_the_skin_and_subcutaneous_tissue_fold_1_train.csv', 522)\n",
      "18 ('mimic_iv_domain_Diseases_of_the_eye_and_adnexa.csv_fold_1_train.csv', 484)\n",
      "19 ('mimic_iv_domain_Congenital_malformations_deformations_and_chromosomal_abnormalities.csv_fold_1_train.csv', 189)\n",
      "20 ('mimic_iv_domain_Diseases_of_the_ear_and_mastoid_process.csv_fold_1_train.csv', 143)\n"
     ]
    }
   ],
   "source": [
    "train_only = [i for i in keys if 'train' in i]\n",
    "result_list = [(i, len(mimic_domain_files[i])) for i in train_only]\n",
    "sorted_by_size = sorted(result_list, key=lambda x: x[1], reverse=True)\n",
    "for i, item in enumerate(sorted_by_size):\n",
    "    print(i, item)"
   ]
  },
  {
   "cell_type": "code",
   "execution_count": 10,
   "metadata": {},
   "outputs": [
    {
     "data": {
      "text/plain": [
       "['mimic_iv_domain_Certain_infectious_and_parasitic_diseases.csv_fold_1_train.csv',\n",
       " 'mimic_iv_domain_Congenital_malformations_deformations_and_chromosomal_abnormalities.csv_fold_1_train.csv',\n",
       " 'mimic_iv_domain_Diseases_of_the_blood_and_blood-forming_organs_and_certain_disorders_involving_the_immune_mechanism.csv_fold_1_train.csv',\n",
       " 'mimic_iv_domain_Diseases_of_the_circulatory_system.csv_fold_1_train.csv',\n",
       " 'mimic_iv_domain_Diseases_of_the_digestive_system.csv_fold_1_train.csv',\n",
       " 'mimic_iv_domain_Diseases_of_the_ear_and_mastoid_process.csv_fold_1_train.csv',\n",
       " 'mimic_iv_domain_Diseases_of_the_eye_and_adnexa.csv_fold_1_train.csv',\n",
       " 'mimic_iv_domain_Diseases_of_the_genitourinary_system.csv_fold_1_train.csv',\n",
       " 'mimic_iv_domain_Diseases_of_the_musculoskeletal_system_and_connective_tissue.csv_fold_1_train.csv',\n",
       " 'mimic_iv_domain_Diseases_of_the_nervous_system.csv_fold_1_train.csv',\n",
       " 'mimic_iv_domain_Diseases_of_the_respiratory_system.csv_fold_1_train.csv',\n",
       " 'mimic_iv_domain_Diseases_of_the_skin_and_subcutaneous_tissue.csv_fold_1_train.csv',\n",
       " 'mimic_iv_domain_Diseases_of_the_skin_and_subcutaneous_tissue_fold_1_train.csv',\n",
       " 'mimic_iv_domain_Endocrine_nutritional_and_metabolic_diseases.csv_fold_1_train.csv',\n",
       " 'mimic_iv_domain_External_causes_of_morbidity_and_mortality.csv_fold_1_train.csv',\n",
       " 'mimic_iv_domain_Factors_influencing_health_status_and_contact_with_health_services.csv_fold_1_train.csv',\n",
       " 'mimic_iv_domain_Injury_poisoning_and_certain_other_consequences_of_external_causes.csv_fold_1_train.csv',\n",
       " 'mimic_iv_domain_Mental_and_behavioural_disorders.csv_fold_1_train.csv',\n",
       " 'mimic_iv_domain_Neoplasms.csv_fold_1_train.csv',\n",
       " 'mimic_iv_domain_Pregnancy_childbirth_and_the_puerperium.csv_fold_1_train.csv',\n",
       " 'mimic_iv_domain_Symptoms_signs_and_abnormal_clinical_and_laboratory_findings_not_elsewhere_classified.csv_fold_1_train.csv']"
      ]
     },
     "execution_count": 10,
     "metadata": {},
     "output_type": "execute_result"
    }
   ],
   "source": [
    "train_only"
   ]
  },
  {
   "cell_type": "code",
   "execution_count": 14,
   "metadata": {},
   "outputs": [],
   "source": [
    "results = mimic_domain_files\n",
    "dev = results['mimic_iv_domain_Symptoms_signs_and_abnormal_clinical_and_laboratory_findings_not_elsewhere_classified.csv_fold_1_dev.csv']\n",
    "train = results['mimic_iv_domain_Symptoms_signs_and_abnormal_clinical_and_laboratory_findings_not_elsewhere_classified.csv_fold_1_train.csv']\n",
    "test = results['mimic_iv_domain_Symptoms_signs_and_abnormal_clinical_and_laboratory_findings_not_elsewhere_classified.csv_fold_1_test.csv']"
   ]
  },
  {
   "cell_type": "code",
   "execution_count": 16,
   "metadata": {},
   "outputs": [
    {
     "data": {
      "text/plain": [
       "(18035,)"
      ]
     },
     "execution_count": 16,
     "metadata": {},
     "output_type": "execute_result"
    }
   ],
   "source": [
    "pd.concat([train, dev, test]).reset_index(drop=True).text.drop_duplicates().shape"
   ]
  },
  {
   "cell_type": "code",
   "execution_count": 17,
   "metadata": {},
   "outputs": [],
   "source": [
    "set_dev = set(dev.subject_id.tolist()) \n",
    "set_train = set(train.subject_id.tolist())\n",
    "set_test = set(test.subject_id.tolist())"
   ]
  },
  {
   "cell_type": "code",
   "execution_count": 18,
   "metadata": {},
   "outputs": [
    {
     "data": {
      "text/plain": [
       "476"
      ]
     },
     "execution_count": 18,
     "metadata": {},
     "output_type": "execute_result"
    }
   ],
   "source": [
    "len(set_dev.intersection(set_train))"
   ]
  },
  {
   "cell_type": "code",
   "execution_count": 19,
   "metadata": {},
   "outputs": [
    {
     "data": {
      "text/plain": [
       "155"
      ]
     },
     "execution_count": 19,
     "metadata": {},
     "output_type": "execute_result"
    }
   ],
   "source": [
    "len(set_dev.intersection(set_test))"
   ]
  },
  {
   "cell_type": "code",
   "execution_count": 20,
   "metadata": {},
   "outputs": [
    {
     "data": {
      "text/plain": [
       "504"
      ]
     },
     "execution_count": 20,
     "metadata": {},
     "output_type": "execute_result"
    }
   ],
   "source": [
    "len(set_train.intersection(set_test))"
   ]
  },
  {
   "cell_type": "code",
   "execution_count": 21,
   "metadata": {},
   "outputs": [],
   "source": [
    "pd.set_option('display.max_colwidth', None)\n",
    "path_remote = '/pvc/optuna_best_results/'\n",
    "path_local = '/Users/lsacy/lightning_output/'\n",
    "\n",
    "def load_multiple_dfs(ending, path) -> dict:\n",
    "    \"\"\" Load all .csv files in a given directory, using the load_and_label_df function for each file by default, \n",
    "    return a dictionary with the dataframe, and a dictionary mapping the nummeric labels to the text labels\n",
    "    specific_sets: str, default None, could be 'mimic' or 'codiesp' to load only one set of dataset\"\"\"\n",
    "    \n",
    "    # get all files in the directory\n",
    "    files = glob.glob(os.path.join(path, ending))\n",
    "    file_names = [(i.split('/')[-1]) for i in files]  # get the file name without the path to use as dictionary key\n",
    "    \n",
    "    # # load all files into the dictionaries\n",
    "    frames = {}\n",
    "    for idx, i in enumerate(file_names):\n",
    "        frames[i] = load_single_df(files[idx])\n",
    "    \n",
    "    return frames\n",
    "\n",
    "results = load_multiple_dfs('*.csv', path_remote)"
   ]
  },
  {
   "cell_type": "code",
   "execution_count": 22,
   "metadata": {},
   "outputs": [
    {
     "data": {
      "text/plain": [
       "['20230721-185725_reverse_domain_order_test_results.csv',\n",
       " '20230721-182054_reverse_domain_order_test_results.csv',\n",
       " '20230721-150511_Factors_influencing_health_status_results.csv',\n",
       " '20230721-092808_domains_remote_results.csv',\n",
       " '20230726-103229_domains_hpo_all_entries_reverse_top6_results.csv',\n",
       " '20230721-035255_domains_hpo_results.csv',\n",
       " '20230721-124316_domains_remote_results.csv',\n",
       " 'ray_tun_hpo_5_langs.csv',\n",
       " '20230726-155107_domains_2-3_results.csv',\n",
       " '20230720-164436_domains_remote_results.csv',\n",
       " '20230721-153408_Factors_influencing_health_status_results.csv',\n",
       " '20230720-152700_test_results.csv',\n",
       " '20230713-081757_results.csv',\n",
       " '20230727-164238_language-remotetest_results.csv',\n",
       " '20230721-153324_Factors_influencing_health_status_results.csv',\n",
       " '20230721-153122_Factors_influencing_health_status_results.csv']"
      ]
     },
     "execution_count": 22,
     "metadata": {},
     "output_type": "execute_result"
    }
   ],
   "source": [
    "list(results.keys())"
   ]
  },
  {
   "cell_type": "code",
   "execution_count": 23,
   "metadata": {},
   "outputs": [
    {
     "data": {
      "text/plain": [
       "['20230713-081757_results.csv',\n",
       " '20230720-152700_test_results.csv',\n",
       " '20230720-164436_domains_remote_results.csv',\n",
       " '20230721-035255_domains_hpo_results.csv',\n",
       " '20230721-092808_domains_remote_results.csv',\n",
       " '20230721-124316_domains_remote_results.csv',\n",
       " '20230721-150511_Factors_influencing_health_status_results.csv',\n",
       " '20230721-153122_Factors_influencing_health_status_results.csv',\n",
       " '20230721-153324_Factors_influencing_health_status_results.csv',\n",
       " '20230721-153408_Factors_influencing_health_status_results.csv',\n",
       " '20230721-182054_reverse_domain_order_test_results.csv',\n",
       " '20230721-185725_reverse_domain_order_test_results.csv',\n",
       " '20230726-103229_domains_hpo_all_entries_reverse_top6_results.csv',\n",
       " '20230726-155107_domains_2-3_results.csv',\n",
       " '20230727-164238_language-remotetest_results.csv',\n",
       " 'ray_tun_hpo_5_langs.csv']"
      ]
     },
     "execution_count": 23,
     "metadata": {},
     "output_type": "execute_result"
    }
   ],
   "source": [
    "sorted_results = sorted(list(results.keys()))\n",
    "sorted_results"
   ]
  },
  {
   "cell_type": "code",
   "execution_count": 24,
   "metadata": {},
   "outputs": [
    {
     "data": {
      "text/html": [
       "<div>\n",
       "<style scoped>\n",
       "    .dataframe tbody tr th:only-of-type {\n",
       "        vertical-align: middle;\n",
       "    }\n",
       "\n",
       "    .dataframe tbody tr th {\n",
       "        vertical-align: top;\n",
       "    }\n",
       "\n",
       "    .dataframe thead th {\n",
       "        text-align: right;\n",
       "    }\n",
       "</style>\n",
       "<table border=\"1\" class=\"dataframe\">\n",
       "  <thead>\n",
       "    <tr style=\"text-align: right;\">\n",
       "      <th></th>\n",
       "      <th>Unnamed: 0</th>\n",
       "      <th>brazilian</th>\n",
       "      <th>mimic</th>\n",
       "    </tr>\n",
       "  </thead>\n",
       "  <tbody>\n",
       "    <tr>\n",
       "      <th>0</th>\n",
       "      <td>brazilian</td>\n",
       "      <td>[{'torchmetrics.auroc': 0.49723201990127563}]</td>\n",
       "      <td>NaN</td>\n",
       "    </tr>\n",
       "    <tr>\n",
       "      <th>1</th>\n",
       "      <td>mimic</td>\n",
       "      <td>[{'torchmetrics.auroc': 0.5645577311515808}]</td>\n",
       "      <td>[{'torchmetrics.auroc': 0.6042832732200623}]</td>\n",
       "    </tr>\n",
       "  </tbody>\n",
       "</table>\n",
       "</div>"
      ],
      "text/plain": [
       "  Unnamed: 0                                      brazilian  \\\n",
       "0  brazilian  [{'torchmetrics.auroc': 0.49723201990127563}]   \n",
       "1      mimic   [{'torchmetrics.auroc': 0.5645577311515808}]   \n",
       "\n",
       "                                          mimic  \n",
       "0                                           NaN  \n",
       "1  [{'torchmetrics.auroc': 0.6042832732200623}]  "
      ]
     },
     "execution_count": 24,
     "metadata": {},
     "output_type": "execute_result"
    }
   ],
   "source": [
    "results[sorted_results[-2]]"
   ]
  },
  {
   "cell_type": "code",
   "execution_count": 34,
   "metadata": {},
   "outputs": [
    {
     "data": {
      "text/html": [
       "<div>\n",
       "<style scoped>\n",
       "    .dataframe tbody tr th:only-of-type {\n",
       "        vertical-align: middle;\n",
       "    }\n",
       "\n",
       "    .dataframe tbody tr th {\n",
       "        vertical-align: top;\n",
       "    }\n",
       "\n",
       "    .dataframe thead th {\n",
       "        text-align: right;\n",
       "    }\n",
       "</style>\n",
       "<table border=\"1\" class=\"dataframe\">\n",
       "  <thead>\n",
       "    <tr style=\"text-align: right;\">\n",
       "      <th></th>\n",
       "      <th>Unnamed: 0</th>\n",
       "      <th>Symptoms_signs_and_abnormal</th>\n",
       "      <th>Mental_and_behavioural_disorders</th>\n",
       "    </tr>\n",
       "  </thead>\n",
       "  <tbody>\n",
       "    <tr>\n",
       "      <th>0</th>\n",
       "      <td>Symptoms_signs_and_abnormal</td>\n",
       "      <td>[{'torchmetrics.auroc': 0.7643149495124817}]</td>\n",
       "      <td>NaN</td>\n",
       "    </tr>\n",
       "    <tr>\n",
       "      <th>1</th>\n",
       "      <td>Mental_and_behavioural_disorders</td>\n",
       "      <td>[{'torchmetrics.auroc': 0.5938756465911865}]</td>\n",
       "      <td>[{'torchmetrics.auroc': 0.6512281894683838}]</td>\n",
       "    </tr>\n",
       "  </tbody>\n",
       "</table>\n",
       "</div>"
      ],
      "text/plain": [
       "                         Unnamed: 0  \\\n",
       "0       Symptoms_signs_and_abnormal   \n",
       "1  Mental_and_behavioural_disorders   \n",
       "\n",
       "                    Symptoms_signs_and_abnormal  \\\n",
       "0  [{'torchmetrics.auroc': 0.7643149495124817}]   \n",
       "1  [{'torchmetrics.auroc': 0.5938756465911865}]   \n",
       "\n",
       "               Mental_and_behavioural_disorders  \n",
       "0                                           NaN  \n",
       "1  [{'torchmetrics.auroc': 0.6512281894683838}]  "
      ]
     },
     "execution_count": 34,
     "metadata": {},
     "output_type": "execute_result"
    }
   ],
   "source": [
    "results[sorted_results[-2]]"
   ]
  },
  {
   "cell_type": "code",
   "execution_count": 40,
   "metadata": {},
   "outputs": [
    {
     "data": {
      "text/html": [
       "<div>\n",
       "<style scoped>\n",
       "    .dataframe tbody tr th:only-of-type {\n",
       "        vertical-align: middle;\n",
       "    }\n",
       "\n",
       "    .dataframe tbody tr th {\n",
       "        vertical-align: top;\n",
       "    }\n",
       "\n",
       "    .dataframe thead th {\n",
       "        text-align: right;\n",
       "    }\n",
       "</style>\n",
       "<table border=\"1\" class=\"dataframe\">\n",
       "  <thead>\n",
       "    <tr style=\"text-align: right;\">\n",
       "      <th></th>\n",
       "      <th>Unnamed: 0</th>\n",
       "      <th>Factors_influencing_health_status</th>\n",
       "    </tr>\n",
       "  </thead>\n",
       "  <tbody>\n",
       "    <tr>\n",
       "      <th>0</th>\n",
       "      <td>Factors_influencing_health_status</td>\n",
       "      <td>[{'torchmetrics.auroc': 0.6909234523773193}]</td>\n",
       "    </tr>\n",
       "  </tbody>\n",
       "</table>\n",
       "</div>"
      ],
      "text/plain": [
       "                          Unnamed: 0  \\\n",
       "0  Factors_influencing_health_status   \n",
       "\n",
       "              Factors_influencing_health_status  \n",
       "0  [{'torchmetrics.auroc': 0.6909234523773193}]  "
      ]
     },
     "execution_count": 40,
     "metadata": {},
     "output_type": "execute_result"
    }
   ],
   "source": [
    "results[sorted_results[-7]]"
   ]
  },
  {
   "cell_type": "code",
   "execution_count": 36,
   "metadata": {},
   "outputs": [
    {
     "data": {
      "text/html": [
       "<div>\n",
       "<style scoped>\n",
       "    .dataframe tbody tr th:only-of-type {\n",
       "        vertical-align: middle;\n",
       "    }\n",
       "\n",
       "    .dataframe tbody tr th {\n",
       "        vertical-align: top;\n",
       "    }\n",
       "\n",
       "    .dataframe thead th {\n",
       "        text-align: right;\n",
       "    }\n",
       "</style>\n",
       "<table border=\"1\" class=\"dataframe\">\n",
       "  <thead>\n",
       "    <tr style=\"text-align: right;\">\n",
       "      <th></th>\n",
       "      <th>Unnamed: 0</th>\n",
       "      <th>Symptoms_signs_and_abnormal</th>\n",
       "    </tr>\n",
       "  </thead>\n",
       "  <tbody>\n",
       "    <tr>\n",
       "      <th>0</th>\n",
       "      <td>Symptoms_signs_and_abnormal</td>\n",
       "      <td>[{'torchmetrics.auroc': 0.7102967500686646}]</td>\n",
       "    </tr>\n",
       "  </tbody>\n",
       "</table>\n",
       "</div>"
      ],
      "text/plain": [
       "                    Unnamed: 0                   Symptoms_signs_and_abnormal\n",
       "0  Symptoms_signs_and_abnormal  [{'torchmetrics.auroc': 0.7102967500686646}]"
      ]
     },
     "execution_count": 36,
     "metadata": {},
     "output_type": "execute_result"
    }
   ],
   "source": [
    "results[sorted_results[-4]]"
   ]
  },
  {
   "cell_type": "code",
   "execution_count": 35,
   "metadata": {},
   "outputs": [
    {
     "data": {
      "text/html": [
       "<div>\n",
       "<style scoped>\n",
       "    .dataframe tbody tr th:only-of-type {\n",
       "        vertical-align: middle;\n",
       "    }\n",
       "\n",
       "    .dataframe tbody tr th {\n",
       "        vertical-align: top;\n",
       "    }\n",
       "\n",
       "    .dataframe thead th {\n",
       "        text-align: right;\n",
       "    }\n",
       "</style>\n",
       "<table border=\"1\" class=\"dataframe\">\n",
       "  <thead>\n",
       "    <tr style=\"text-align: right;\">\n",
       "      <th></th>\n",
       "      <th>Unnamed: 0</th>\n",
       "      <th>Diseases_of_the_circulatory_system</th>\n",
       "    </tr>\n",
       "  </thead>\n",
       "  <tbody>\n",
       "    <tr>\n",
       "      <th>0</th>\n",
       "      <td>Diseases_of_the_circulatory_system</td>\n",
       "      <td>[{'torchmetrics.auroc': 0.6293169856071472}]</td>\n",
       "    </tr>\n",
       "  </tbody>\n",
       "</table>\n",
       "</div>"
      ],
      "text/plain": [
       "                           Unnamed: 0  \\\n",
       "0  Diseases_of_the_circulatory_system   \n",
       "\n",
       "             Diseases_of_the_circulatory_system  \n",
       "0  [{'torchmetrics.auroc': 0.6293169856071472}]  "
      ]
     },
     "execution_count": 35,
     "metadata": {},
     "output_type": "execute_result"
    }
   ],
   "source": [
    "results[sorted_results[-5]]"
   ]
  }
 ],
 "metadata": {
  "kernelspec": {
   "display_name": "base",
   "language": "python",
   "name": "python3"
  },
  "language_info": {
   "codemirror_mode": {
    "name": "ipython",
    "version": 3
   },
   "file_extension": ".py",
   "mimetype": "text/x-python",
   "name": "python",
   "nbconvert_exporter": "python",
   "pygments_lexer": "ipython3",
   "version": "3.8.13"
  },
  "orig_nbformat": 4
 },
 "nbformat": 4,
 "nbformat_minor": 2
}
